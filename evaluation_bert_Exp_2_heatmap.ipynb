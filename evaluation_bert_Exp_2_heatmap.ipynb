{
 "cells": [
  {
   "cell_type": "code",
   "execution_count": 95,
   "metadata": {},
   "outputs": [],
   "source": [
    "from collections import defaultdict\n",
    "from datasets import load_dataset\n",
    "import random\n",
    "from datasets import Dataset\n",
    "from datasets import DatasetDict\n",
    "import torch\n",
    "import json\n",
    "from torch.utils.data import DataLoader\n",
    "from pprint import pprint\n",
    "import torch\n",
    "from tqdm import tqdm\n",
    "from transformers import BertTokenizer, DataCollatorWithPadding\n",
    "import numpy as np\n",
    "\n",
    "# tokenizer = BertTokenizer.from_pretrained('bert-base-cased', force_download=False)\n",
    "from transformers import BertForMaskedLM\n"
   ]
  },
  {
   "cell_type": "code",
   "execution_count": 96,
   "metadata": {},
   "outputs": [
    {
     "name": "stdout",
     "output_type": "stream",
     "text": [
      "cuda:0\n",
      "DatasetDict({\n",
      "    train: Dataset({\n",
      "        features: ['text', 'input', 'output'],\n",
      "        num_rows: 16990\n",
      "    })\n",
      "    test: Dataset({\n",
      "        features: ['text', 'input', 'output'],\n",
      "        num_rows: 3920\n",
      "    })\n",
      "}) {'text': 'IN: walk OUT: I_WALK', 'input': 'walk', 'output': 'I_WALK'}\n"
     ]
    }
   ],
   "source": [
    "gpu = torch.cuda.is_available()\n",
    "device = torch.device(\"cuda:0\" if gpu else \"cpu\")\n",
    "print(device)\n",
    "MAX_LENGTH = 512\n",
    "oracle = 2 # 0: no oracle; 1 hint; 2 mask\n",
    "model_path = \"./bert_finetuned/bert_finetuned_0_oracle_mask/\"\n",
    "\n",
    "# Define a function to process each example\n",
    "def process_example(example):\n",
    "    # Split the example into IN and OUT parts, and remove the labels\n",
    "    text = example['text']\n",
    "    parts = text.split('OUT:')\n",
    "    in_part = parts[0].replace('IN:', '').strip()\n",
    "    out_part = parts[1].strip() if len(parts) > 1 else ''\n",
    "    return {'input': in_part, 'output': out_part}\n",
    "\n",
    "datasets = load_dataset(\n",
    "    'text', \n",
    "    data_files={'train': 'data/length_split/tasks_train_length.txt',\n",
    "                'test': 'data/length_split/tasks_test_length.txt'})\n",
    "\n",
    "datasets['train'] = datasets['train'].map(process_example)\n",
    "datasets['test'] = datasets['test'].map(process_example)\n",
    "# Display the processed dataset\n",
    "print(datasets, datasets['train'][0])\n",
    "\n"
   ]
  },
  {
   "cell_type": "code",
   "execution_count": 97,
   "metadata": {},
   "outputs": [],
   "source": [
    "\n",
    "# model = BertForMaskedLM.from_pretrained(model_path, force_download=False)\n",
    "model = BertForMaskedLM.from_pretrained(\n",
    "    model_path,\n",
    "    torch_dtype=torch.bfloat16,\n",
    "    device_map=\"cpu\",\n",
    ")\n",
    "tokenizer = BertTokenizer.from_pretrained(model_path)\n",
    "\n",
    "def tokenize_function(example):\n",
    "    inputs = dict()\n",
    "    input_str = []\n",
    "    output_str = []\n",
    "    if oracle == 1:\n",
    "        input_str = [example[\"input\"][id] + \" [hint: target sequence length:\"+str(len(tokenizer.tokenize(example[\"output\"][id])))+\"] \"+ \n",
    "                        tokenizer.sep_token + (' ' + tokenizer.mask_token) * MAX_LENGTH for id in range(len(example[\"input\"]))]\n",
    "        output_str = [example[\"input\"][id] +  \" [hint: target sequence length:\"+str(len(tokenizer.tokenize(example[\"output\"][id])))+\"] \"+ \n",
    "                        tokenizer.sep_token + example[\"output\"][id] + (' ' + tokenizer.sep_token) * MAX_LENGTH for id in range(len(example[\"input\"]))]\n",
    "    elif oracle == 2:\n",
    "        for id in range(len(example[\"input\"])):\n",
    "            mask_tokens = (' ' + tokenizer.mask_token) * len(tokenizer.tokenize(example[\"output\"][id]))\n",
    "            input_str.append (example[\"input\"][id] + tokenizer.sep_token + mask_tokens + (' ' + tokenizer.sep_token) * MAX_LENGTH)\n",
    "            output_str.append(example[\"input\"][id] + tokenizer.sep_token + example[\"output\"][id] + (' ' + tokenizer.sep_token) * MAX_LENGTH)\n",
    "        # print(input_str[0])\n",
    "        # print(output_str[0])\n",
    "    else:\n",
    "        input_str = [example[\"input\"][id] + tokenizer.sep_token + (' ' + tokenizer.mask_token) * MAX_LENGTH for id in range(len(example[\"input\"]))]\n",
    "        output_str = [example[\"input\"][id] + tokenizer.sep_token + example[\"output\"][id] + (' ' + tokenizer.sep_token) * MAX_LENGTH for id in range(len(example[\"input\"]))]\n",
    "\n",
    "    input_tokens = tokenizer(input_str, \n",
    "                            return_tensors='pt',\n",
    "                            padding=True,\n",
    "                            truncation=True,\n",
    "                            max_length=MAX_LENGTH)\n",
    "    output_tokens = tokenizer(output_str, \n",
    "                            return_tensors='pt',\n",
    "                            padding=True,\n",
    "                            truncation=True,\n",
    "                            max_length=MAX_LENGTH)\n",
    "    # print(input_str[0])\n",
    "    # print(output_str[0])\n",
    "    inputs.update(input_tokens)\n",
    "    inputs['labels'] = output_tokens['input_ids']\n",
    "    for idx in range(len(inputs['labels'])):\n",
    "        for i in range(len(inputs['labels'][idx])):\n",
    "            sep = tokenizer.convert_tokens_to_ids(tokenizer.sep_token)\n",
    "            if inputs['labels'][idx][i] != sep:\n",
    "                inputs['labels'][idx][i] = -100\n",
    "            else:\n",
    "                inputs['labels'][idx][i] = -100\n",
    "                break\n",
    "    # print(tokenizer.convert_ids_to_tokens(inputs['input_ids'][0]))\n",
    "    # print(tokenizer.convert_ids_to_tokens(inputs['labels'][0]))\n",
    "\n",
    "    return inputs"
   ]
  },
  {
   "cell_type": "code",
   "execution_count": 98,
   "metadata": {},
   "outputs": [
    {
     "data": {
      "application/vnd.jupyter.widget-view+json": {
       "model_id": "c0a4aff54d9c4167aef4df9ff2d20193",
       "version_major": 2,
       "version_minor": 0
      },
      "text/plain": [
       "Map:   0%|          | 0/3920 [00:00<?, ? examples/s]"
      ]
     },
     "metadata": {},
     "output_type": "display_data"
    }
   ],
   "source": [
    "tokenized_datasets = dict()\n",
    "tokenized_datasets['train'] = datasets['train']\n",
    "tokenized_datasets['test'] = datasets['test'].map(tokenize_function, \n",
    "                                                  batched=True, \n",
    "                                                  remove_columns=['text', 'input', 'output'])\n",
    "data_collator = DataCollatorWithPadding(tokenizer=tokenizer, max_length=512, padding=True)\n"
   ]
  },
  {
   "cell_type": "code",
   "execution_count": 99,
   "metadata": {},
   "outputs": [],
   "source": [
    "\n",
    "\n",
    "def calculate_accuracies(predictions, targets, input_lengths, label_lengths):\n",
    "    \"\"\"\n",
    "    Calculate token-wise accuracy, sequence-wise accuracy, and additional accuracies:\n",
    "        1. Token-level accuracy w.r.t. input sequence length\n",
    "        2. Token-level accuracy w.r.t. label sequence length\n",
    "        3. Sentence-level accuracy w.r.t. input sequence length\n",
    "        4. Sentence-level accuracy w.r.t. label sequence length\n",
    "\n",
    "    Args:\n",
    "        predictions (list[list]): List of predicted token sequences.\n",
    "        targets (list[list]): List of target token sequences.\n",
    "        input_lengths (list[int]): Lengths of input sequences.\n",
    "        label_lengths (list[int]): Lengths of label sequences.\n",
    "\n",
    "    Returns:\n",
    "        dict: A dictionary containing all calculated accuracies.\n",
    "    \"\"\"\n",
    "    # Ensure predictions and targets are the same length\n",
    "    assert len(predictions) == len(targets), \"Predictions and targets must have the same number of sequences.\"\n",
    "    assert len(predictions) == len(input_lengths) == len(label_lengths), \\\n",
    "        \"Input lengths and label lengths must match the number of sequences.\"\n",
    "\n",
    "    total_tokens = 0\n",
    "    correct_tokens = 0\n",
    "    correct_sequences = 0\n",
    "\n",
    "    token_accuracy_wrt_input_length = defaultdict(list)\n",
    "    token_accuracy_wrt_label_length = defaultdict(list)\n",
    "    sequence_accuracy_wrt_input_length = defaultdict(list)\n",
    "    sequence_accuracy_wrt_label_length = defaultdict(list)\n",
    "\n",
    "    for idx, (pred_seq, target_seq, input_len, label_len) in enumerate(zip(predictions, targets, input_lengths, label_lengths)):\n",
    "        # Ensure sequences are the same length\n",
    "        assert len(pred_seq) == len(target_seq), \"Each prediction and target sequence must have the same length.\"\n",
    "        \n",
    "        # Token-wise comparison\n",
    "        sequence_correct = True\n",
    "        token_correct_count = 0\n",
    "        for pred_token, target_token in zip(pred_seq, target_seq):\n",
    "            if pred_token == target_token:\n",
    "                correct_tokens += 1\n",
    "                token_correct_count += 1\n",
    "            else:\n",
    "                sequence_correct = False\n",
    "        total_tokens += len(target_seq)\n",
    "\n",
    "        # Sequence-level accuracy\n",
    "        if sequence_correct:\n",
    "            correct_sequences += 1\n",
    "\n",
    "        # Accumulate token-level accuracy w.r.t input and label sequence length\n",
    "        token_accuracy_wrt_input_length[input_len].append(token_correct_count / label_len)\n",
    "        token_accuracy_wrt_label_length[label_len].append(token_correct_count / label_len)\n",
    "\n",
    "        # Accumulate sequence-level accuracy w.r.t input and label sequence length\n",
    "        sequence_accuracy_wrt_input_length[input_len].append(1 if sequence_correct else 0)\n",
    "        sequence_accuracy_wrt_label_length[label_len].append(1 if sequence_correct else 0)\n",
    "\n",
    "    # Aggregate results\n",
    "    def aggregate_accuracy(data_dict):\n",
    "        return {key: sum(values) / len(values) for key, values in data_dict.items()}\n",
    "\n",
    "    aggregated_token_accuracy_input = aggregate_accuracy(token_accuracy_wrt_input_length)\n",
    "    aggregated_token_accuracy_label = aggregate_accuracy(token_accuracy_wrt_label_length)\n",
    "    aggregated_sequence_accuracy_input = aggregate_accuracy(sequence_accuracy_wrt_input_length)\n",
    "    aggregated_sequence_accuracy_label = aggregate_accuracy(sequence_accuracy_wrt_label_length)\n",
    "\n",
    "    # Calculate overall accuracies\n",
    "    token_wise_accuracy = correct_tokens / total_tokens\n",
    "    sequence_wise_accuracy = correct_sequences / len(targets)\n",
    "\n",
    "    return {\n",
    "        \"token_wise_accuracy\": token_wise_accuracy,\n",
    "        \"sequence_wise_accuracy\": sequence_wise_accuracy,\n",
    "        \"token_accuracy_wrt_input_length\": aggregated_token_accuracy_input,\n",
    "        \"token_accuracy_wrt_label_length\": aggregated_token_accuracy_label,\n",
    "        \"sequence_accuracy_wrt_input_length\": aggregated_sequence_accuracy_input,\n",
    "        \"sequence_accuracy_wrt_label_length\": aggregated_sequence_accuracy_label\n",
    "    }\n",
    "\n",
    "\n",
    "\n",
    "def convert_string(source_string):\n",
    "    # Split the string into tokens based on spaces\n",
    "    tokens = source_string.split()\n",
    "    # Initialize an empty list to hold the combined words\n",
    "    combined_words = []\n",
    "    while len(tokens) > 0:\n",
    "        popped_token = tokens.pop(0)\n",
    "        if popped_token != '_':\n",
    "            combined_words.append(popped_token)\n",
    "        elif len(tokens) > 0 and len(combined_words) > 0:\n",
    "            new_word = combined_words.pop(-1) + popped_token + tokens.pop(0)\n",
    "            combined_words.append(new_word)\n",
    "    return combined_words\n"
   ]
  },
  {
   "cell_type": "code",
   "execution_count": 100,
   "metadata": {},
   "outputs": [
    {
     "name": "stdout",
     "output_type": "stream",
     "text": [
      "{'ids': [3714, 1286, 22027, 1170, 146, 147, 149, 1942, 155, 157, 5152, 1440, 1576, 168, 2346, 2101, 1213, 14663, 2249, 1105, 25810, 10835, 2647, 1885, 22751, 18784, 19556, 101, 102, 103, 27370, 2162, 3059, 1268, 23413, 24438, 2428], 'tokens': ['opposite', 'left', '##OK', 'after', 'I', 'J', 'L', '##T', 'R', 'T', 'jump', 'look', 'run', '_', '##O', '##P', 'around', '##EF', '##N', 'and', '##UM', '##rice', 'walk', 'turn', 'WA', '##HT', '##UR', '[CLS]', '[SEP]', '[MASK]', '##UN', '##L', 'twice', 'right', '##IG', 'th', '##K']}\n",
      "{'ids': [22027, 146, 147, 149, 1942, 155, 157, 168, 2346, 2101, 14663, 2249, 25810, 22751, 18784, 19556, 101, 102, 103, 27370, 2162, 23413, 2428], 'tokens': ['##OK', 'I', 'J', 'L', '##T', 'R', 'T', '_', '##O', '##P', '##EF', '##N', '##UM', 'WA', '##HT', '##UR', '[CLS]', '[SEP]', '[MASK]', '##UN', '##L', '##IG', '##K']}\n"
     ]
    }
   ],
   "source": [
    "scan_vocab = []\n",
    "with open(\"scan_vocabulary.json\") as f:\n",
    "    scan_vocab = json.load(f)\n",
    "print(scan_vocab)\n",
    "# Select ids and tokens with capital letters\n",
    "selected_ids_tokens = {\n",
    "    'ids': [],\n",
    "    'tokens': []\n",
    "}\n",
    "\n",
    "for idx, token in zip(scan_vocab['ids'], scan_vocab['tokens']):\n",
    "    if any(char.isupper() or char == '_' for char in token):  # Check for capital letters\n",
    "        selected_ids_tokens['ids'].append(idx)\n",
    "        selected_ids_tokens['tokens'].append(token)\n",
    "\n",
    "print(selected_ids_tokens)"
   ]
  },
  {
   "cell_type": "code",
   "execution_count": null,
   "metadata": {},
   "outputs": [],
   "source": []
  },
  {
   "cell_type": "code",
   "execution_count": 101,
   "metadata": {},
   "outputs": [],
   "source": [
    "# Evaluation\n",
    "def evaluation(dataset, model, batch_size, tokenizer):\n",
    "    data_loader = DataLoader(dataset, # tokenized_datasets['test'].with_format(\"torch\") \n",
    "                             batch_size=batch_size, \n",
    "                             shuffle=False)\n",
    "    targets = []\n",
    "    predictions = []\n",
    "    model.to(device)\n",
    "    input_lengths = []\n",
    "    outputs_logits = []\n",
    "    labels = []\n",
    "    label_span = []\n",
    "    # print(model.device, device)\n",
    "    with torch.no_grad():\n",
    "        for data in tqdm(data_loader):\n",
    "            for key in data:\n",
    "                data[key] = data[key].to(model.device)\n",
    "                # print(key, data[key].device)\n",
    "            # Predict\n",
    "            outputs = model(**data, return_dict=True)  \n",
    "            # Greedy sampling\n",
    "            prediction = outputs.logits.argmax(dim=-1)\n",
    "            outputs_logits.append(outputs.logits.detach().cpu().softmax(dim=2)[:, :, selected_ids_tokens['ids']])\n",
    "            print(outputs_logits[-1].shape)\n",
    "            # Truncation according to the length of labels\n",
    "            for batch_idx in range(len(data['labels'])):\n",
    "                target = []\n",
    "                pre = []\n",
    "                indices = []\n",
    "                input_len = len(tokenizer.decode(data['input_ids'][batch_idx].cpu().tolist(), \n",
    "                                skip_special_tokens=True, \n",
    "                                clean_up_tokenization_spaces=True).split())\n",
    "                input_lengths.append(input_len) \n",
    "                for i in range(len(data['labels'][batch_idx])):\n",
    "                    if data['labels'][batch_idx][i] != -100:\n",
    "                        sep = tokenizer.convert_tokens_to_ids(tokenizer.sep_token)\n",
    "                        if data['labels'][batch_idx][i] == sep: # 102\n",
    "                            # Convert BERT tokens into task specific tokens\n",
    "                            target_seq = convert_string(tokenizer.decode(target, \n",
    "                                                        skip_special_tokens=True, \n",
    "                                                        clean_up_tokenization_spaces=True))\n",
    "                            pre_seq = convert_string(tokenizer.decode(pre, \n",
    "                                                    skip_special_tokens=True, \n",
    "                                                    clean_up_tokenization_spaces=True))\n",
    "                            if len(target_seq) > len(pre_seq):\n",
    "                                pre_seq += [tokenizer.sep_token] * (len(target_seq) - len(pre_seq))\n",
    "                            elif len(target_seq) < len(pre_seq):\n",
    "                                pre_seq = pre_seq[:len(target_seq)]\n",
    "                            assert len(target_seq) == len(pre_seq), \\\n",
    "                                \"Each prediction and target sequence must have the same length.\"\n",
    "                            targets.append(target_seq)\n",
    "                            predictions.append(pre_seq)\n",
    "                            labels.append(data['labels'][batch_idx].cpu())\n",
    "                            label_span.append(indices)\n",
    "                            break\n",
    "                        target.append(data['labels'][batch_idx][i].cpu().item())\n",
    "                        pre.append(prediction[batch_idx][i].cpu().item())     \n",
    "                        indices.append(i)\n",
    "            break\n",
    "        label_lengths = [len(label_seq) for label_seq in targets]\n",
    "        outputs_logits = torch.cat(outputs_logits, dim=0).tolist()\n",
    "        labels = torch.stack(labels, dim=0).tolist()\n",
    "    return {\n",
    "        'acc': calculate_accuracies(predictions, targets, input_lengths, label_lengths),\n",
    "        'outputs_logits': outputs_logits,\n",
    "        'labels': labels,\n",
    "        'label_span': label_span\n",
    "    }"
   ]
  },
  {
   "cell_type": "code",
   "execution_count": 102,
   "metadata": {},
   "outputs": [
    {
     "name": "stderr",
     "output_type": "stream",
     "text": [
      "  0%|          | 0/3920 [00:00<?, ?it/s]"
     ]
    },
    {
     "name": "stdout",
     "output_type": "stream",
     "text": [
      "torch.Size([1, 512, 23])\n",
      "{'token_wise_accuracy': 0.7083333333333334, 'sequence_wise_accuracy': 0.0, 'token_accuracy_wrt_input_length': {8: 0.7083333333333334}, 'token_accuracy_wrt_label_length': {24: 0.7083333333333334}, 'sequence_accuracy_wrt_input_length': {8: 0.0}, 'sequence_accuracy_wrt_label_length': {24: 0.0}}\n"
     ]
    },
    {
     "name": "stderr",
     "output_type": "stream",
     "text": [
      "\n"
     ]
    }
   ],
   "source": [
    "result_dict = evaluation(tokenized_datasets['test'].with_format(\"torch\"), \n",
    "                     model, batch_size=1, tokenizer=tokenizer)\n",
    "\n",
    "\n",
    "# Save to files\n",
    "# torch.save(result_dict['outputs_logits'], \"outputs_logits.pt\")\n",
    "# torch.save(result_dict['labels'], \"labels.pt\")\n",
    "with open('acc_dict_with_oracle.json', 'w') as f:\n",
    "    json.dump(result_dict, f, indent=4)\n",
    "results = result_dict['acc']\n",
    "print(results)"
   ]
  },
  {
   "cell_type": "code",
   "execution_count": 103,
   "metadata": {},
   "outputs": [
    {
     "data": {
      "text/plain": [
       "((1, 512, 23), (1, 512), (1, 156))"
      ]
     },
     "execution_count": 103,
     "metadata": {},
     "output_type": "execute_result"
    }
   ],
   "source": [
    "result_dict['outputs_logits'] = np.array(result_dict['outputs_logits'])\n",
    "result_dict['labels'] = np.array(result_dict['labels'])\n",
    "result_dict['label_span'] = np.array(result_dict['label_span'])\n",
    "\n",
    "result_dict['outputs_logits'].shape, result_dict['labels'].shape, result_dict['label_span'].shape"
   ]
  },
  {
   "cell_type": "code",
   "execution_count": 104,
   "metadata": {},
   "outputs": [
    {
     "name": "stdout",
     "output_type": "stream",
     "text": [
      "I_TURN_LEFT I_RUN I_TURN_LEFT I_RUN I_TURN_LEFT I_RUN I_TURN_LEFT I_RUN I_TURN_LEFT I_RUN I_TURN_LEFT I_RUN I_TURN_LEFT I_RUN I_TURN_LEFT I_RUN I_TURN_RIGHT I_RUN I_TURN_RIGHT I_RUN I_TURN_RIGHT I_RUN I_TURN_RIGHT I_RUN\n"
     ]
    },
    {
     "data": {
      "text/plain": [
       "24"
      ]
     },
     "execution_count": 104,
     "metadata": {},
     "output_type": "execute_result"
    }
   ],
   "source": [
    "temp_ids = [result_dict['labels'][0][i] for i in result_dict['label_span'][0]]\n",
    "print(\" \".join(convert_string(tokenizer.decode(temp_ids, skip_special_tokens=True))))\n",
    "len(convert_string(tokenizer.decode(temp_ids, skip_special_tokens=True)))"
   ]
  },
  {
   "cell_type": "code",
   "execution_count": 105,
   "metadata": {},
   "outputs": [
    {
     "data": {
      "text/plain": [
       "((1, 156, 23), (1, 156))"
      ]
     },
     "execution_count": 105,
     "metadata": {},
     "output_type": "execute_result"
    }
   ],
   "source": [
    "selected_elements = result_dict['outputs_logits'][:, list(result_dict['label_span'][0]), :]\n",
    "selected_labels = result_dict['labels'][:, list(result_dict['label_span'][0])]\n",
    "selected_elements.shape, selected_labels.shape"
   ]
  },
  {
   "cell_type": "code",
   "execution_count": 106,
   "metadata": {},
   "outputs": [
    {
     "name": "stdout",
     "output_type": "stream",
     "text": [
      "(1, 156) 0.9976462477600965\n",
      "[[1.         1.         1.00000008 1.00000022 1.00000023 1.00000001\n",
      "  1.0000005  1.00000035 1.00000019 1.00000021 1.         1.00000024\n",
      "  1.00000003 1.00000003 1.00000003 1.00000017 1.00000291 1.00000018\n",
      "  1.00000257 1.00001507 1.00000013 1.00000156 1.00000227 1.00000001\n",
      "  1.00000001 1.00000111 1.00000013 1.         1.00000001 1.00000001\n",
      "  1.00000002 1.00000001 1.00000036 1.00000096 1.00000017 1.00000019\n",
      "  1.00000024 1.00000003 1.00000003 1.00000054 1.00000006 1.0000001\n",
      "  1.00000001 1.00000004 1.         1.00000078 1.00000005 1.00000015\n",
      "  1.00000003 1.00000008 1.00000012 1.0000001  1.00000017 1.\n",
      "  1.00000002 1.00000007 1.00000022 1.00000001 1.00000348 1.00000017\n",
      "  1.00000016 1.00000015 1.         1.0000002  1.00000049 1.00000018\n",
      "  1.00000004 1.00000004 1.00000005 1.00000024 1.00000001 1.000001\n",
      "  1.00000023 1.00000054 1.0000003  1.00000003 1.00000079 1.00000163\n",
      "  1.00000987 1.00000001 1.00000045 1.00000018 1.00002147 1.00000045\n",
      "  1.00000111 1.0000062  1.00001725 1.00012309 1.00000045 1.00000292\n",
      "  1.00026309 1.00029934 1.00000697 1.00000333 1.0000048  1.0000849\n",
      "  1.00008492 1.00018302 1.00006641 1.0000757  1.0015042  1.0000048\n",
      "  1.00003321 0.9982767  0.99806578 1.00024414 1.0017018  1.00132754\n",
      "  1.0007328  0.9987797  1.00156355 0.99906603 1.00192335 1.00110085\n",
      "  1.00073242 0.999309   1.00113724 1.00023601 1.00005223 1.00005179\n",
      "  1.00055412 0.99969818 1.00177802 1.00009603 0.99820054 1.00147987\n",
      "  0.99878789 1.00107194 0.9999802  0.99822863 0.99993664 1.00006684\n",
      "  1.00090523 0.99862067 0.99764625 1.00123947 0.99823183 1.00095171\n",
      "  0.99868614 0.9983101  0.99928646 0.99912833 0.99916757 1.00116747\n",
      "  1.00193538 1.00007604 0.99848979 1.00103023 1.00000239 1.00000136\n",
      "  1.00000108 1.0000007  1.00000009 1.00000028 1.00000032 1.00000011]]\n"
     ]
    }
   ],
   "source": [
    "sum_prob = np.sum(selected_elements, axis=2)\n",
    "print(sum_prob.shape, np.min(sum_prob)) # Flag 1\n",
    "print(sum_prob)\n",
    "\n"
   ]
  },
  {
   "cell_type": "code",
   "execution_count": 107,
   "metadata": {},
   "outputs": [
    {
     "data": {
      "image/png": "[encoded data removed]",
      "text/plain": [
       "<Figure size 2300x500 with 2 Axes>"
      ]
     },
     "metadata": {},
     "output_type": "display_data"
    }
   ],
   "source": [
    "import numpy as np\n",
    "import matplotlib.pyplot as plt\n",
    "\n",
    "# Example data for demonstration\n",
    "# selected_elements = np.random.rand(1, 156, 37)  # Shape: (1, 156, 37)\n",
    "# selected_labels = np.random.randint(0, 10, (1, 156))  # Shape: (1, 156)\n",
    "# scan_vocab = {'tokens': [f'token_{i}' for i in range(37)]}  # Example vocabulary\n",
    "\n",
    "# Extracting the data for plotting\n",
    "heatmap_data = selected_elements[0]  # Shape: (156, 37)\n",
    "x_labels = tokenizer.convert_ids_to_tokens(selected_labels[0])  # Shape: (156,)\n",
    "y_labels = selected_ids_tokens['tokens']  # Shape: (37,)\n",
    "\n",
    "# Create the heatmap\n",
    "plt.figure(figsize=(23, 5))\n",
    "plt.imshow(heatmap_data.T, aspect='auto', cmap='viridis', interpolation='nearest')\n",
    "\n",
    "# Set the labels for the axes\n",
    "plt.xticks(ticks=np.arange(len(x_labels)), labels=x_labels, rotation=90, fontsize=8)\n",
    "plt.yticks(ticks=np.arange(len(y_labels)), labels=y_labels, fontsize=8)\n",
    "\n",
    "# Add color bar\n",
    "plt.colorbar(label=\"Intensity\")\n",
    "\n",
    "# Axis labels and title\n",
    "plt.xlabel(\"Generate Tokens (156)\")\n",
    "plt.ylabel(\"Vocabulary Tokens (37)\")\n",
    "plt.title(\"Heatmap of the Probabilities\")\n",
    "\n",
    "# Display the heatmap\n",
    "plt.tight_layout()\n",
    "plt.savefig('Heatmap_of_the_Probabilities.pdf', bbox_inches='tight')\n",
    "plt.show()\n"
   ]
  }
 ],
 "metadata": {
  "kernelspec": {
   "display_name": "base",
   "language": "python",
   "name": "python3"
  },
  "language_info": {
   "codemirror_mode": {
    "name": "ipython",
    "version": 3
   },
   "file_extension": ".py",
   "mimetype": "text/x-python",
   "name": "python",
   "nbconvert_exporter": "python",
   "pygments_lexer": "ipython3",
   "version": "3.11.7"
  }
 },
 "nbformat": 4,
 "nbformat_minor": 2
}
